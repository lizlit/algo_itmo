{
 "cells": [
  {
   "cell_type": "code",
   "execution_count": 183,
   "metadata": {},
   "outputs": [],
   "source": [
    "import numpy as np\n",
    "import matplotlib.pyplot as plt\n",
    "import scipy \n",
    "import scipy.optimize"
   ]
  },
  {
   "cell_type": "markdown",
   "metadata": {},
   "source": [
    "<h1> Part 1. One-dimensional direct methods of unconstrained nonlinear optimization <h1>"
   ]
  },
  {
   "cell_type": "code",
   "execution_count": 184,
   "metadata": {},
   "outputs": [],
   "source": [
    "def Cube(x):\n",
    "    return x**3 +2\n",
    "\n",
    "def Abs(x):\n",
    "    return abs(x-0.2)\n",
    "\n",
    "def Sin(x):\n",
    "    return x * np.sin(1 / x)"
   ]
  },
  {
   "cell_type": "code",
   "execution_count": 185,
   "metadata": {},
   "outputs": [],
   "source": [
    "#Define methods for 1 variable\n",
    "\n",
    "def Search( f, a, b, epsilon ):\n",
    "    n = round((b - a) / epsilon ) + 1\n",
    "    xk = []\n",
    "    f_xk = []\n",
    "    xk.insert(0, a)\n",
    "    f_xk.insert(0, f(a))\n",
    "    for i in range(n):\n",
    "        xk.append( a + (i + 1) * ((b -a ) / n))\n",
    "        f_xk.insert(i+1, f(xk[i+1]))\n",
    "    return xk[(f_xk.index(min(f_xk)))]\n",
    "\n",
    "def Dichotomy(f, a, b, epsilon):\n",
    "    ak = a\n",
    "    bk = b\n",
    "    x_roof = a\n",
    "    delta = epsilon - (epsilon / 2)\n",
    "    action = 0\n",
    "    iters = 0\n",
    "    calls = 1\n",
    "    while abs(ak - bk) > epsilon:\n",
    "        x1 = (ak + bk - delta) / 2 \n",
    "        x2 = (ak + bk + delta) / 2 \n",
    "        action +=2 # Two values of x\n",
    "        if f(x1) <= f(x2):\n",
    "            ak = ak\n",
    "            bk = x2\n",
    "            x_roof = x1\n",
    "            \n",
    "        else: \n",
    "            ak = x1\n",
    "            bk = bk\n",
    "            x_roof = x2\n",
    "        action +=4 # Two new values of x and f(x) for them\n",
    "        iters +=1\n",
    "        calls +=1\n",
    "    return x_roof, action, iters, calls\n",
    "            \n",
    "\n",
    "def GoldenRatio(f, a, b, epsilon):\n",
    "    ak = a\n",
    "    bk = b\n",
    "    x_roof = a\n",
    "    x1 = a + (3 - 5**0.5)/2 * (b - a)\n",
    "    x2 = b + (5**0.5 - 3)/2 * (b - a)\n",
    "    iters = 0\n",
    "    calls = 1\n",
    "    action = 2\n",
    "    #print (abs(ak-bk))\n",
    "    while abs(ak - bk) > epsilon:\n",
    "        if f(x1) <= f(x2):\n",
    "            bk = x2\n",
    "            x2 = x1\n",
    "            x1 = ak + (3 - 5**0.5)/2 * (bk - ak)\n",
    "            x_roof = x1\n",
    "        else: \n",
    "            ak = x1\n",
    "            x1 = x2\n",
    "            x2 = bk + (5**0.5 - 3)/2 * (bk - ak)\n",
    "            x_roof = x2\n",
    "        iters +=1\n",
    "        calls +=1\n",
    "    return x_roof, iters, action\n"
   ]
  },
  {
   "cell_type": "code",
   "execution_count": 186,
   "metadata": {},
   "outputs": [
    {
     "name": "stdout",
     "output_type": "stream",
     "text": [
      "Arg min |x-0.2| on [0,1] = 0.200160, it took 15, iterations and  2 actions was made for  this incoming parameters\n"
     ]
    }
   ],
   "source": [
    "mod = GoldenRatio(Abs, 0, 1, 0.001)\n",
    "print ('Arg min |x-0.2| on [0,1] = {:.6f}, it took {}, iterations and  {} actions was made for  this incoming parameters'.format(*GoldenRatio(Abs, 0, 1, 0.001)))\n",
    "\n"
   ]
  },
  {
   "cell_type": "markdown",
   "metadata": {},
   "source": [
    "<h1> Part 2. Multi-dimensional direct methods of unconstrained nonlinear optimization <h1>"
   ]
  },
  {
   "cell_type": "code",
   "execution_count": 187,
   "metadata": {},
   "outputs": [],
   "source": [
    "np.random.seed(42)\n",
    "alpha = np.random.random()\n",
    "beta = np.random.random()\n",
    "xk = []\n",
    "yk = []\n",
    "k = 100\n",
    "for i in range (k+1):\n",
    "    xk.append(i/k)\n",
    "    yk.append( alpha * xk[i] + beta + np.random.randn())\n",
    "xk = np.asarray(xk)\n",
    "yk = np.asarray(yk)"
   ]
  },
  {
   "cell_type": "code",
   "execution_count": 189,
   "metadata": {},
   "outputs": [],
   "source": [
    "def LnrApprox(x, a, b):\n",
    "    return a * x + b\n",
    "\n",
    "def RatioApprox(x, a, b):\n",
    "    return a / (1+b*x)"
   ]
  },
  {
   "cell_type": "code",
   "execution_count": 190,
   "metadata": {},
   "outputs": [],
   "source": [
    "def OptiCostLin(params, real, x):\n",
    "    a, b = params\n",
    "    error =  sum((real - LnrApprox(x, a, b))**2) \n",
    "    return error\n",
    "def OptiCostRatio(params, real, x ):\n",
    "    a, b = params \n",
    "    error = sum((real - RatioApprox(x, a, b))**2)\n",
    "    return error"
   ]
  },
  {
   "cell_type": "code",
   "execution_count": 191,
   "metadata": {},
   "outputs": [
    {
     "name": "stdout",
     "output_type": "stream",
     "text": [
      "Pararms by Searc method  for Linear approx [0.43875128 0.79067613]\n",
      "Pararms by Gauss method for Linear approx \n",
      "    direc: array([[ 0.        ,  1.        ],\n",
      "       [ 0.23317346, -0.11658673]])\n",
      "     fun: 83.07382697914977\n",
      " message: 'Optimization terminated successfully.'\n",
      "    nfev: 92\n",
      "     nit: 3\n",
      "  status: 0\n",
      " success: True\n",
      "       x: array([0.43877712, 0.79065688])\n",
      "Pararms by Nelder-Mead method for Linear approx \n",
      "  final_simplex: (array([[0.43917899, 0.79064992],\n",
      "       [0.43818416, 0.79145594],\n",
      "       [0.43821877, 0.7904227 ]]), array([83.07383217, 83.07385551, 83.07385627]))\n",
      "           fun: 83.0738321661276\n",
      "       message: 'Optimization terminated successfully.'\n",
      "          nfev: 109\n",
      "           nit: 56\n",
      "        status: 0\n",
      "       success: True\n",
      "             x: array([0.43917899, 0.79064992])\n"
     ]
    }
   ],
   "source": [
    "Lin_search = scipy.optimize.brute(OptiCostLin, [[0, 1], [0, 1]], args=(yk, xk), Ns=int(1/0.001) + 1)\n",
    "Lin_Nelder_Mead = scipy.optimize.minimize(OptiCostLin, x0 = [0, 0], args=(yk, xk ), tol=0.001, method='Nelder-Mead')\n",
    "Lin_Gauss = scipy.optimize.minimize(OptiCostLin, x0 = [1, 1], args=(yk, xk), tol=0.001, method='Powell')\n",
    "print ('Pararms by Searc method  for Linear approx',  Lin_search)\n",
    "print ('Pararms by Gauss method for Linear approx \\n',  Lin_Gauss)\n",
    "print ('Pararms by Nelder-Mead method for Linear approx \\n',  Lin_Nelder_Mead)\n"
   ]
  },
  {
   "cell_type": "code",
   "execution_count": 192,
   "metadata": {},
   "outputs": [
    {
     "name": "stdout",
     "output_type": "stream",
     "text": [
      "Pararms by Searc method for Rational approx [ 0.83264517 -0.33003319]\n",
      "Pararms by Gauss method for Rational approx \n",
      "    direc: array([[-0.23968794, -0.44995249],\n",
      "       [-0.03042684, -0.01371012]])\n",
      "     fun: 83.16368036006268\n",
      " message: 'Optimization terminated successfully.'\n",
      "    nfev: 120\n",
      "     nit: 5\n",
      "  status: 0\n",
      " success: True\n",
      "       x: array([ 0.83266542, -0.33000023])\n",
      "Pararms by Nelder-Mead method for Rational approx\n",
      "  final_simplex: (array([[ 0.83269176, -0.32982078],\n",
      "       [ 0.83221026, -0.33047843],\n",
      "       [ 0.83288178, -0.33008045]]), array([83.16368226, 83.16368912, 83.16369114]))\n",
      "           fun: 83.16368226279701\n",
      "       message: 'Optimization terminated successfully.'\n",
      "          nfev: 106\n",
      "           nit: 55\n",
      "        status: 0\n",
      "       success: True\n",
      "             x: array([ 0.83269176, -0.32982078])\n"
     ]
    }
   ],
   "source": [
    "Ratio_search = scipy.optimize.brute(OptiCostRatio, [[0, 1], [0, 1]], args=(yk, xk), Ns=int(1/0.001) + 1)\n",
    "Ratio_Nelder_Mead = scipy.optimize.minimize(OptiCostRatio, x0 = [0, 0], args=(yk, xk), tol=0.001, method='Nelder-Mead')\n",
    "Ratio_Gauss = scipy.optimize.minimize(OptiCostRatio, x0 = [1, 1], args=(yk, xk), tol=0.001, method='Powell')\n",
    "print ('Pararms by Searc method for Rational approx',  Ratio_search)\n",
    "print ('Pararms by Gauss method for Rational approx \\n',  Ratio_Gauss)\n",
    "print ('Pararms by Nelder-Mead method for Rational approx\\n',  Ratio_Nelder_Mead)\n"
   ]
  },
  {
   "cell_type": "code",
   "execution_count": 193,
   "metadata": {},
   "outputs": [
    {
     "data": {
      "image/png": "[encoded data removed]",
      "text/plain": [
       "<Figure size 1080x1080 with 1 Axes>"
      ]
     },
     "metadata": {
      "needs_background": "light"
     },
     "output_type": "display_data"
    }
   ],
   "source": [
    "plt.figure(figsize = (15, 15))\n",
    "plt.scatter(xk, yk)\n",
    "plt.plot(xk, LnrApprox(xk, Lin_search[0], Lin_search[1]))\n",
    "plt.plot(xk, LnrApprox(xk, Lin_Gauss.x[0], Lin_Gauss.x[1]))\n",
    "plt.plot(xk, LnrApprox(xk, Lin_Nelder_Mead.x[0], Lin_Nelder_Mead.x[1]))\n",
    "plt.legend(['Serch', 'Gauss', 'Nelder-Mead', 'Approximated data'])\n",
    "\n",
    "plt.show()"
   ]
  },
  {
   "cell_type": "code",
   "execution_count": 194,
   "metadata": {},
   "outputs": [
    {
     "data": {
      "image/png": "[encoded data removed]",
      "text/plain": [
       "<Figure size 720x720 with 1 Axes>"
      ]
     },
     "metadata": {
      "needs_background": "light"
     },
     "output_type": "display_data"
    }
   ],
   "source": [
    "plt.figure(figsize = (10, 10))\n",
    "plt.scatter(xk, yk)\n",
    "plt.plot(xk, RatioApprox(xk, Ratio_search[0], Ratio_search[1]))\n",
    "plt.plot(xk, RatioApprox(xk, Ratio_Gauss.x[0], Ratio_Gauss.x[1]))\n",
    "plt.plot(xk, RatioApprox(xk, Ratio_Nelder_Mead.x[0], Ratio_Nelder_Mead.x[1]))\n",
    "plt.legend(['Serch', 'Gauss', 'Nelder-Mead', 'Approximated data'])\n",
    "\n",
    "plt.show()"
   ]
  }
 ],
 "metadata": {
  "interpreter": {
   "hash": "b80cdbdb038bbb4cedbc9659f6f256c7eceb555913621e631d9547730a747166"
  },
  "kernelspec": {
   "display_name": "Python 3.8.10 64-bit ('labs_venv': venv)",
   "language": "python",
   "name": "python3"
  },
  "language_info": {
   "codemirror_mode": {
    "name": "ipython",
    "version": 3
   },
   "file_extension": ".py",
   "mimetype": "text/x-python",
   "name": "python",
   "nbconvert_exporter": "python",
   "pygments_lexer": "ipython3",
   "version": "3.8.10"
  },
  "orig_nbformat": 4
 },
 "nbformat": 4,
 "nbformat_minor": 2
}
